{
 "cells": [
  {
   "cell_type": "code",
   "execution_count": 2,
   "metadata": {},
   "outputs": [],
   "source": [
    "import pandas as pd"
   ]
  },
  {
   "cell_type": "code",
   "execution_count": 3,
   "metadata": {},
   "outputs": [],
   "source": [
    "df = pd.read_excel(\"car data.xlsx\")"
   ]
  },
  {
   "cell_type": "code",
   "execution_count": 4,
   "metadata": {},
   "outputs": [
    {
     "data": {
      "text/html": [
       "<div>\n",
       "<style scoped>\n",
       "    .dataframe tbody tr th:only-of-type {\n",
       "        vertical-align: middle;\n",
       "    }\n",
       "\n",
       "    .dataframe tbody tr th {\n",
       "        vertical-align: top;\n",
       "    }\n",
       "\n",
       "    .dataframe thead th {\n",
       "        text-align: right;\n",
       "    }\n",
       "</style>\n",
       "<table border=\"1\" class=\"dataframe\">\n",
       "  <thead>\n",
       "    <tr style=\"text-align: right;\">\n",
       "      <th></th>\n",
       "      <th>Car_Name</th>\n",
       "      <th>Year</th>\n",
       "      <th>Present_Price</th>\n",
       "      <th>Kms_Driven</th>\n",
       "      <th>Fuel_Type</th>\n",
       "      <th>Seller_Type</th>\n",
       "      <th>Transmission</th>\n",
       "      <th>Owner</th>\n",
       "      <th>Selling_Price</th>\n",
       "    </tr>\n",
       "  </thead>\n",
       "  <tbody>\n",
       "    <tr>\n",
       "      <th>0</th>\n",
       "      <td>Hero Passion X pro</td>\n",
       "      <td>2016</td>\n",
       "      <td>12417.55</td>\n",
       "      <td>33217</td>\n",
       "      <td>Petrol</td>\n",
       "      <td>Individual</td>\n",
       "      <td>Manual</td>\n",
       "      <td>0</td>\n",
       "      <td>11717.50</td>\n",
       "    </tr>\n",
       "    <tr>\n",
       "      <th>1</th>\n",
       "      <td>xcent</td>\n",
       "      <td>2017</td>\n",
       "      <td>10633.13</td>\n",
       "      <td>12905</td>\n",
       "      <td>Petrol</td>\n",
       "      <td>Dealer</td>\n",
       "      <td>Manual</td>\n",
       "      <td>0</td>\n",
       "      <td>9931.75</td>\n",
       "    </tr>\n",
       "    <tr>\n",
       "      <th>2</th>\n",
       "      <td>verna</td>\n",
       "      <td>2015</td>\n",
       "      <td>10881.40</td>\n",
       "      <td>62053</td>\n",
       "      <td>Diesel</td>\n",
       "      <td>Dealer</td>\n",
       "      <td>Manual</td>\n",
       "      <td>0</td>\n",
       "      <td>10180.25</td>\n",
       "    </tr>\n",
       "    <tr>\n",
       "      <th>3</th>\n",
       "      <td>ertiga</td>\n",
       "      <td>2016</td>\n",
       "      <td>11107.79</td>\n",
       "      <td>43897</td>\n",
       "      <td>Diesel</td>\n",
       "      <td>Dealer</td>\n",
       "      <td>Manual</td>\n",
       "      <td>0</td>\n",
       "      <td>10404.75</td>\n",
       "    </tr>\n",
       "    <tr>\n",
       "      <th>4</th>\n",
       "      <td>jazz</td>\n",
       "      <td>2016</td>\n",
       "      <td>10316.40</td>\n",
       "      <td>4108</td>\n",
       "      <td>Petrol</td>\n",
       "      <td>Dealer</td>\n",
       "      <td>Manual</td>\n",
       "      <td>0</td>\n",
       "      <td>9614.00</td>\n",
       "    </tr>\n",
       "  </tbody>\n",
       "</table>\n",
       "</div>"
      ],
      "text/plain": [
       "             Car_Name  Year  Present_Price  Kms_Driven Fuel_Type Seller_Type  \\\n",
       "0  Hero Passion X pro  2016       12417.55       33217    Petrol  Individual   \n",
       "1               xcent  2017       10633.13       12905    Petrol      Dealer   \n",
       "2               verna  2015       10881.40       62053    Diesel      Dealer   \n",
       "3              ertiga  2016       11107.79       43897    Diesel      Dealer   \n",
       "4                jazz  2016       10316.40        4108    Petrol      Dealer   \n",
       "\n",
       "  Transmission  Owner  Selling_Price  \n",
       "0       Manual      0       11717.50  \n",
       "1       Manual      0        9931.75  \n",
       "2       Manual      0       10180.25  \n",
       "3       Manual      0       10404.75  \n",
       "4       Manual      0        9614.00  "
      ]
     },
     "execution_count": 4,
     "metadata": {},
     "output_type": "execute_result"
    }
   ],
   "source": [
    "df.head()"
   ]
  },
  {
   "cell_type": "code",
   "execution_count": 5,
   "metadata": {},
   "outputs": [
    {
     "data": {
      "text/plain": [
       "Index(['Car_Name', 'Year', 'Present_Price', 'Kms_Driven', 'Fuel_Type',\n",
       "       'Seller_Type', 'Transmission', 'Owner', 'Selling_Price'],\n",
       "      dtype='object')"
      ]
     },
     "execution_count": 5,
     "metadata": {},
     "output_type": "execute_result"
    }
   ],
   "source": [
    "df.columns"
   ]
  },
  {
   "cell_type": "code",
   "execution_count": 6,
   "metadata": {},
   "outputs": [],
   "source": [
    "df = df[['Year', 'Present_Price', 'Kms_Driven', 'Fuel_Type',\n",
    "       'Seller_Type', 'Transmission', 'Owner', 'Selling_Price']]"
   ]
  },
  {
   "cell_type": "code",
   "execution_count": 7,
   "metadata": {},
   "outputs": [
    {
     "data": {
      "text/html": [
       "<div>\n",
       "<style scoped>\n",
       "    .dataframe tbody tr th:only-of-type {\n",
       "        vertical-align: middle;\n",
       "    }\n",
       "\n",
       "    .dataframe tbody tr th {\n",
       "        vertical-align: top;\n",
       "    }\n",
       "\n",
       "    .dataframe thead th {\n",
       "        text-align: right;\n",
       "    }\n",
       "</style>\n",
       "<table border=\"1\" class=\"dataframe\">\n",
       "  <thead>\n",
       "    <tr style=\"text-align: right;\">\n",
       "      <th></th>\n",
       "      <th>Year</th>\n",
       "      <th>Present_Price</th>\n",
       "      <th>Kms_Driven</th>\n",
       "      <th>Fuel_Type</th>\n",
       "      <th>Seller_Type</th>\n",
       "      <th>Transmission</th>\n",
       "      <th>Owner</th>\n",
       "      <th>Selling_Price</th>\n",
       "    </tr>\n",
       "  </thead>\n",
       "  <tbody>\n",
       "    <tr>\n",
       "      <th>0</th>\n",
       "      <td>2016</td>\n",
       "      <td>12417.55</td>\n",
       "      <td>33217</td>\n",
       "      <td>Petrol</td>\n",
       "      <td>Individual</td>\n",
       "      <td>Manual</td>\n",
       "      <td>0</td>\n",
       "      <td>11717.50</td>\n",
       "    </tr>\n",
       "    <tr>\n",
       "      <th>1</th>\n",
       "      <td>2017</td>\n",
       "      <td>10633.13</td>\n",
       "      <td>12905</td>\n",
       "      <td>Petrol</td>\n",
       "      <td>Dealer</td>\n",
       "      <td>Manual</td>\n",
       "      <td>0</td>\n",
       "      <td>9931.75</td>\n",
       "    </tr>\n",
       "    <tr>\n",
       "      <th>2</th>\n",
       "      <td>2015</td>\n",
       "      <td>10881.40</td>\n",
       "      <td>62053</td>\n",
       "      <td>Diesel</td>\n",
       "      <td>Dealer</td>\n",
       "      <td>Manual</td>\n",
       "      <td>0</td>\n",
       "      <td>10180.25</td>\n",
       "    </tr>\n",
       "    <tr>\n",
       "      <th>3</th>\n",
       "      <td>2016</td>\n",
       "      <td>11107.79</td>\n",
       "      <td>43897</td>\n",
       "      <td>Diesel</td>\n",
       "      <td>Dealer</td>\n",
       "      <td>Manual</td>\n",
       "      <td>0</td>\n",
       "      <td>10404.75</td>\n",
       "    </tr>\n",
       "    <tr>\n",
       "      <th>4</th>\n",
       "      <td>2016</td>\n",
       "      <td>10316.40</td>\n",
       "      <td>4108</td>\n",
       "      <td>Petrol</td>\n",
       "      <td>Dealer</td>\n",
       "      <td>Manual</td>\n",
       "      <td>0</td>\n",
       "      <td>9614.00</td>\n",
       "    </tr>\n",
       "  </tbody>\n",
       "</table>\n",
       "</div>"
      ],
      "text/plain": [
       "   Year  Present_Price  Kms_Driven Fuel_Type Seller_Type Transmission  Owner  \\\n",
       "0  2016       12417.55       33217    Petrol  Individual       Manual      0   \n",
       "1  2017       10633.13       12905    Petrol      Dealer       Manual      0   \n",
       "2  2015       10881.40       62053    Diesel      Dealer       Manual      0   \n",
       "3  2016       11107.79       43897    Diesel      Dealer       Manual      0   \n",
       "4  2016       10316.40        4108    Petrol      Dealer       Manual      0   \n",
       "\n",
       "   Selling_Price  \n",
       "0       11717.50  \n",
       "1        9931.75  \n",
       "2       10180.25  \n",
       "3       10404.75  \n",
       "4        9614.00  "
      ]
     },
     "execution_count": 7,
     "metadata": {},
     "output_type": "execute_result"
    }
   ],
   "source": [
    "df.head()"
   ]
  },
  {
   "cell_type": "code",
   "execution_count": 8,
   "metadata": {},
   "outputs": [
    {
     "data": {
      "text/plain": [
       "Year             0\n",
       "Present_Price    0\n",
       "Kms_Driven       0\n",
       "Fuel_Type        0\n",
       "Seller_Type      0\n",
       "Transmission     0\n",
       "Owner            0\n",
       "Selling_Price    0\n",
       "dtype: int64"
      ]
     },
     "execution_count": 8,
     "metadata": {},
     "output_type": "execute_result"
    }
   ],
   "source": [
    "df.isnull().sum()"
   ]
  },
  {
   "cell_type": "code",
   "execution_count": 9,
   "metadata": {},
   "outputs": [
    {
     "name": "stdout",
     "output_type": "stream",
     "text": [
      "The original dataset has 100000 rows and 8 columns\n"
     ]
    }
   ],
   "source": [
    "print(\"The original dataset has {} rows and {} columns\".format(df.shape[0], df.shape[1]))"
   ]
  },
  {
   "cell_type": "code",
   "execution_count": 10,
   "metadata": {},
   "outputs": [
    {
     "data": {
      "text/plain": [
       "6935"
      ]
     },
     "execution_count": 10,
     "metadata": {},
     "output_type": "execute_result"
    }
   ],
   "source": [
    "df.duplicated().sum()"
   ]
  },
  {
   "cell_type": "code",
   "execution_count": 11,
   "metadata": {},
   "outputs": [],
   "source": [
    "df.drop_duplicates(inplace=True)"
   ]
  },
  {
   "cell_type": "code",
   "execution_count": 12,
   "metadata": {},
   "outputs": [
    {
     "name": "stdout",
     "output_type": "stream",
     "text": [
      "The original dataset has 93065 rows and 8 columns\n"
     ]
    }
   ],
   "source": [
    "print(\"The original dataset has {} rows and {} columns\".format(df.shape[0], df.shape[1]))"
   ]
  },
  {
   "cell_type": "code",
   "execution_count": 13,
   "metadata": {},
   "outputs": [
    {
     "data": {
      "text/html": [
       "<div>\n",
       "<style scoped>\n",
       "    .dataframe tbody tr th:only-of-type {\n",
       "        vertical-align: middle;\n",
       "    }\n",
       "\n",
       "    .dataframe tbody tr th {\n",
       "        vertical-align: top;\n",
       "    }\n",
       "\n",
       "    .dataframe thead th {\n",
       "        text-align: right;\n",
       "    }\n",
       "</style>\n",
       "<table border=\"1\" class=\"dataframe\">\n",
       "  <thead>\n",
       "    <tr style=\"text-align: right;\">\n",
       "      <th></th>\n",
       "      <th>Year</th>\n",
       "      <th>Present_Price</th>\n",
       "      <th>Kms_Driven</th>\n",
       "      <th>Fuel_Type</th>\n",
       "      <th>Seller_Type</th>\n",
       "      <th>Transmission</th>\n",
       "      <th>Owner</th>\n",
       "      <th>Selling_Price</th>\n",
       "    </tr>\n",
       "  </thead>\n",
       "  <tbody>\n",
       "    <tr>\n",
       "      <th>0</th>\n",
       "      <td>2016</td>\n",
       "      <td>12417.55</td>\n",
       "      <td>33217</td>\n",
       "      <td>Petrol</td>\n",
       "      <td>Individual</td>\n",
       "      <td>Manual</td>\n",
       "      <td>0</td>\n",
       "      <td>11717.50</td>\n",
       "    </tr>\n",
       "    <tr>\n",
       "      <th>1</th>\n",
       "      <td>2017</td>\n",
       "      <td>10633.13</td>\n",
       "      <td>12905</td>\n",
       "      <td>Petrol</td>\n",
       "      <td>Dealer</td>\n",
       "      <td>Manual</td>\n",
       "      <td>0</td>\n",
       "      <td>9931.75</td>\n",
       "    </tr>\n",
       "    <tr>\n",
       "      <th>2</th>\n",
       "      <td>2015</td>\n",
       "      <td>10881.40</td>\n",
       "      <td>62053</td>\n",
       "      <td>Diesel</td>\n",
       "      <td>Dealer</td>\n",
       "      <td>Manual</td>\n",
       "      <td>0</td>\n",
       "      <td>10180.25</td>\n",
       "    </tr>\n",
       "    <tr>\n",
       "      <th>3</th>\n",
       "      <td>2016</td>\n",
       "      <td>11107.79</td>\n",
       "      <td>43897</td>\n",
       "      <td>Diesel</td>\n",
       "      <td>Dealer</td>\n",
       "      <td>Manual</td>\n",
       "      <td>0</td>\n",
       "      <td>10404.75</td>\n",
       "    </tr>\n",
       "    <tr>\n",
       "      <th>4</th>\n",
       "      <td>2016</td>\n",
       "      <td>10316.40</td>\n",
       "      <td>4108</td>\n",
       "      <td>Petrol</td>\n",
       "      <td>Dealer</td>\n",
       "      <td>Manual</td>\n",
       "      <td>0</td>\n",
       "      <td>9614.00</td>\n",
       "    </tr>\n",
       "  </tbody>\n",
       "</table>\n",
       "</div>"
      ],
      "text/plain": [
       "   Year  Present_Price  Kms_Driven Fuel_Type Seller_Type Transmission  Owner  \\\n",
       "0  2016       12417.55       33217    Petrol  Individual       Manual      0   \n",
       "1  2017       10633.13       12905    Petrol      Dealer       Manual      0   \n",
       "2  2015       10881.40       62053    Diesel      Dealer       Manual      0   \n",
       "3  2016       11107.79       43897    Diesel      Dealer       Manual      0   \n",
       "4  2016       10316.40        4108    Petrol      Dealer       Manual      0   \n",
       "\n",
       "   Selling_Price  \n",
       "0       11717.50  \n",
       "1        9931.75  \n",
       "2       10180.25  \n",
       "3       10404.75  \n",
       "4        9614.00  "
      ]
     },
     "execution_count": 13,
     "metadata": {},
     "output_type": "execute_result"
    }
   ],
   "source": [
    "df.head()"
   ]
  },
  {
   "cell_type": "code",
   "execution_count": 14,
   "metadata": {},
   "outputs": [
    {
     "data": {
      "text/plain": [
       "Petrol    73643\n",
       "Diesel    18789\n",
       "CNG         633\n",
       "Name: Fuel_Type, dtype: int64"
      ]
     },
     "execution_count": 14,
     "metadata": {},
     "output_type": "execute_result"
    }
   ],
   "source": [
    "df['Fuel_Type'].value_counts()"
   ]
  },
  {
   "cell_type": "code",
   "execution_count": 15,
   "metadata": {},
   "outputs": [
    {
     "data": {
      "text/plain": [
       "Dealer        60995\n",
       "Individual    32070\n",
       "Name: Seller_Type, dtype: int64"
      ]
     },
     "execution_count": 15,
     "metadata": {},
     "output_type": "execute_result"
    }
   ],
   "source": [
    "df['Seller_Type'].value_counts()"
   ]
  },
  {
   "cell_type": "code",
   "execution_count": 16,
   "metadata": {},
   "outputs": [
    {
     "data": {
      "text/plain": [
       "Manual       80566\n",
       "Automatic    12499\n",
       "Name: Transmission, dtype: int64"
      ]
     },
     "execution_count": 16,
     "metadata": {},
     "output_type": "execute_result"
    }
   ],
   "source": [
    "df['Transmission'].value_counts()"
   ]
  },
  {
   "cell_type": "code",
   "execution_count": 17,
   "metadata": {},
   "outputs": [],
   "source": [
    "df['Fuel_Type'] = df['Fuel_Type'].map({'Petrol':0,'Diesel':1,'CNG':2})\n",
    "df['Seller_Type'] = df['Seller_Type'].map({'Dealer':0,'Individual':1})\n",
    "df['Transmission'] = df['Transmission'].map({'Manual':0,'Automatic':1})"
   ]
  },
  {
   "cell_type": "code",
   "execution_count": 18,
   "metadata": {},
   "outputs": [],
   "source": [
    "X = df.drop(columns = 'Selling_Price').values\n",
    "y = df['Selling_Price'].values"
   ]
  },
  {
   "cell_type": "code",
   "execution_count": 19,
   "metadata": {},
   "outputs": [],
   "source": [
    "from sklearn.model_selection import train_test_split\n",
    "X_train, X_test, y_train, y_test = train_test_split(X, y, test_size=0.3, random_state=0)"
   ]
  },
  {
   "cell_type": "code",
   "execution_count": 20,
   "metadata": {},
   "outputs": [],
   "source": [
    "from sklearn.preprocessing import StandardScaler  \n",
    "scaler = StandardScaler() \n",
    "scaler.fit(X_train,y_train) \n",
    "X_train_scaled = scaler.transform(X_train) \n",
    "X_test_scaled = scaler.transform(X_test)"
   ]
  },
  {
   "cell_type": "code",
   "execution_count": 21,
   "metadata": {},
   "outputs": [
    {
     "data": {
      "text/plain": [
       "LinearRegression()"
      ]
     },
     "execution_count": 21,
     "metadata": {},
     "output_type": "execute_result"
    }
   ],
   "source": [
    "from sklearn.linear_model import LinearRegression\n",
    "regressor = LinearRegression()\n",
    "regressor.fit(X_train_scaled, y_train)"
   ]
  },
  {
   "cell_type": "code",
   "execution_count": 22,
   "metadata": {},
   "outputs": [
    {
     "name": "stdout",
     "output_type": "stream",
     "text": [
      "R2 Value: 0.9999945867835961\n"
     ]
    }
   ],
   "source": [
    "from sklearn.metrics import  r2_score\n",
    "y_pred = regressor.predict(X_test_scaled)\n",
    "rsquared = r2_score(y_test,y_pred)\n",
    "print(\"R2 Value: {}\".format(rsquared))"
   ]
  },
  {
   "cell_type": "code",
   "execution_count": 23,
   "metadata": {},
   "outputs": [
    {
     "name": "stdout",
     "output_type": "stream",
     "text": [
      "K value  :  1 train_score; 1.0  score :  0.999969476372139\n",
      "K value  :  2 train_score; 0.9999937589056913  score :  0.9999703466704432\n",
      "K value  :  3 train_score; 0.9999892979724653  score :  0.999966946404451\n",
      "K value  :  4 train_score; 0.9999848089501148  score :  0.9999625610705187\n",
      "K value  :  5 train_score; 0.9999804482131526  score :  0.9999563123364178\n",
      "K value  :  6 train_score; 0.9999755748455564  score :  0.9999496532966304\n",
      "K value  :  7 train_score; 0.9999700920639398  score :  0.9999427126884143\n",
      "K value  :  8 train_score; 0.9999643642194364  score :  0.9999345943579774\n",
      "K value  :  9 train_score; 0.9999582896647865  score :  0.9999248920241083\n",
      "K value  :  10 train_score; 0.9999512598372726  score :  0.9999156478147452\n",
      "K value  :  20 train_score; 0.9998389763205795  score :  0.999751224996545\n",
      "K value  :  50 train_score; 0.9988776409272535  score :  0.9984950929898933\n"
     ]
    }
   ],
   "source": [
    "from sklearn.neighbors import KNeighborsClassifier, KNeighborsRegressor\n",
    "import numpy as np\n",
    "from sklearn.linear_model import LogisticRegression\n",
    "from mlxtend.plotting import plot_decision_regions \n",
    "from sklearn.model_selection import cross_val_score \n",
    "for i in [1,2,3,4,5,6,7,8,9,10,20,50]: \n",
    "  knn = KNeighborsRegressor(i) \n",
    "  knn.fit(X_train_scaled,y_train) \n",
    "  print(\"K value  : \" , i,\"train_score;\",knn.score(X_train_scaled,y_train), \" score : \", np.mean(cross_val_score(knn, X_train_scaled, y_train, cv=10)))"
   ]
  },
  {
   "cell_type": "code",
   "execution_count": 24,
   "metadata": {},
   "outputs": [],
   "source": [
    "from sklearn.neighbors import KNeighborsRegressor\n",
    "knn=KNeighborsRegressor(2)\n",
    "knn.fit(X_train_scaled,y_train)\n",
    "y_pred = knn.score(X_test_scaled,y_test)"
   ]
  },
  {
   "cell_type": "code",
   "execution_count": 25,
   "metadata": {},
   "outputs": [
    {
     "name": "stdout",
     "output_type": "stream",
     "text": [
      "R2 Value: 0.9999757320048155\n"
     ]
    }
   ],
   "source": [
    "from sklearn.metrics import  r2_score\n",
    "y_pred = knn.predict(X_test_scaled)\n",
    "rsquared = r2_score(y_test,y_pred)\n",
    "print(\"R2 Value: {}\".format(rsquared))"
   ]
  },
  {
   "cell_type": "code",
   "execution_count": 26,
   "metadata": {},
   "outputs": [
    {
     "name": "stdout",
     "output_type": "stream",
     "text": [
      "depth : 1 train_R2 : 0.6816698873343121 val scaore : 0.6815368231153868\n",
      "depth : 2 train_R2 : 0.909626120882925 val scaore : 0.9095325326627602\n",
      "depth : 3 train_R2 : 0.975469863747751 val scaore : 0.975435724759716\n",
      "depth : 4 train_R2 : 0.9934296509865627 val scaore : 0.9934153783576457\n",
      "depth : 5 train_R2 : 0.9982968799162573 val scaore : 0.9982880692952648\n",
      "depth : 6 train_R2 : 0.999554848420827 val scaore : 0.9995482783838249\n",
      "depth : 7 train_R2 : 0.9998835375013984 val scaore : 0.999878738675292\n",
      "depth : 8 train_R2 : 0.9999662122389115 val scaore : 0.9999630630295483\n",
      "depth : 9 train_R2 : 0.9999869773528484 val scaore : 0.9999843213360686\n",
      "depth : 10 train_R2 : 0.9999924643848662 val scaore : 0.9999892757350605\n",
      "depth : 20 train_R2 : 0.9999999898218589 val scaore : 0.999991832572275\n",
      "depth : 40 train_R2 : 1.0 val scaore : 0.9999916292991496\n",
      "depth : 60 train_R2 : 1.0 val scaore : 0.9999918785514648\n"
     ]
    }
   ],
   "source": [
    "from sklearn.model_selection import cross_val_score\n",
    "from sklearn.metrics import make_scorer\n",
    "from sklearn.tree import DecisionTreeRegressor\n",
    "import numpy as np\n",
    "from sklearn.metrics import r2_score\n",
    "for depth in [1,2,3,4,5,6,7,8,9,10,20,40,60]:\n",
    "  dt = DecisionTreeRegressor(max_depth=depth) \n",
    "  dt.fit(X_train, y_train) \n",
    "  trainAccuracy = r2_score(y_train, dt.predict(X_train)) \n",
    "  dt = DecisionTreeRegressor(max_depth=depth) \n",
    "  valAccuracy = cross_val_score(dt, X_train, y_train, cv=10, scoring = make_scorer(r2_score)) \n",
    "  print(\"depth :\",depth, \"train_R2 :\",trainAccuracy, \"val scaore :\" ,np.mean(valAccuracy))"
   ]
  },
  {
   "cell_type": "code",
   "execution_count": 27,
   "metadata": {},
   "outputs": [
    {
     "data": {
      "text/plain": [
       "DecisionTreeRegressor(max_depth=20)"
      ]
     },
     "execution_count": 27,
     "metadata": {},
     "output_type": "execute_result"
    }
   ],
   "source": [
    "from sklearn.metrics import accuracy_score, roc_auc_score, plot_roc_curve\n",
    "from sklearn.model_selection import cross_val_score\n",
    "from sklearn.tree import DecisionTreeClassifier\n",
    "from sklearn.tree import DecisionTreeRegressor\n",
    "import numpy as np\n",
    "from sklearn.tree import DecisionTreeRegressor\n",
    "dt = DecisionTreeRegressor(max_depth = 20)\n",
    "dt.fit(X_train, y_train)"
   ]
  },
  {
   "cell_type": "code",
   "execution_count": 28,
   "metadata": {},
   "outputs": [
    {
     "name": "stdout",
     "output_type": "stream",
     "text": [
      "R2 Value: 0.9999924633817353\n"
     ]
    }
   ],
   "source": [
    "from sklearn.metrics import  r2_score\n",
    "y_pred = dt.predict(X_test)\n",
    "rsquared = r2_score(y_test,y_pred)\n",
    "print(\"R2 Value: {}\".format(rsquared))"
   ]
  },
  {
   "cell_type": "code",
   "execution_count": 29,
   "metadata": {},
   "outputs": [
    {
     "data": {
      "text/plain": [
       "(93065, 7)"
      ]
     },
     "execution_count": 29,
     "metadata": {},
     "output_type": "execute_result"
    }
   ],
   "source": [
    "X.shape"
   ]
  },
  {
   "cell_type": "code",
   "execution_count": 30,
   "metadata": {},
   "outputs": [],
   "source": [
    "from sklearn.ensemble import RandomForestRegressor\n",
    "from sklearn.metrics import r2_score\n",
    "rf = RandomForestRegressor(n_estimators= 100, max_depth = 3, max_features='sqrt')\n",
    "rf.fit(X_train_scaled, y_train)\n",
    "y_pred = rf.predict(X_test_scaled)"
   ]
  },
  {
   "cell_type": "code",
   "execution_count": 31,
   "metadata": {},
   "outputs": [
    {
     "name": "stdout",
     "output_type": "stream",
     "text": [
      "R2 Value: 0.8676944397176263\n"
     ]
    }
   ],
   "source": [
    "from sklearn.metrics import  r2_score\n",
    "y_pred = rf.predict(X_test_scaled)\n",
    "rsquared = r2_score(y_test,y_pred)\n",
    "print(\"R2 Value: {}\".format(rsquared))"
   ]
  },
  {
   "cell_type": "code",
   "execution_count": 32,
   "metadata": {},
   "outputs": [],
   "source": [
    "import pandas as pd \n",
    "from pandas import MultiIndex, Int16Dtype\n",
    "import xgboost as xgb"
   ]
  },
  {
   "cell_type": "code",
   "execution_count": 33,
   "metadata": {},
   "outputs": [
    {
     "name": "stdout",
     "output_type": "stream",
     "text": [
      "Learning rate :  0.01  Train score :  -4.728972910658431  Cross-Val score :  -4.73344312982193\n",
      "Learning rate :  0.02  Train score :  0.24735690840146507  Cross-Val score :  0.2467152714861657\n",
      "Learning rate :  0.03  Train score :  0.9031490198804627  Cross-Val score :  0.9030572078278972\n",
      "Learning rate :  0.04  Train score :  0.98779170200331  Cross-Val score :  0.9877728032504484\n",
      "Learning rate :  0.05  Train score :  0.998487802276644  Cross-Val score :  0.9984847448810493\n",
      "Learning rate :  0.06  Train score :  0.9998104363504393  Cross-Val score :  0.9998078969019442\n",
      "Learning rate :  0.07  Train score :  0.9999696492340695  Cross-Val score :  0.9999679930206226\n",
      "Learning rate :  0.08  Train score :  0.9999879579001638  Cross-Val score :  0.9999858836291162\n",
      "Learning rate :  0.09  Train score :  0.99998877456061  Cross-Val score :  0.9999870914255109\n",
      "Learning rate :  0.1  Train score :  0.9999880587055269  Cross-Val score :  0.9999859935240485\n",
      "Learning rate :  0.11  Train score :  0.9999869629593168  Cross-Val score :  0.9999848523952721\n",
      "Learning rate :  0.12  Train score :  0.9999857280422142  Cross-Val score :  0.9999839928369454\n",
      "Learning rate :  0.13  Train score :  0.9999856739811587  Cross-Val score :  0.9999831879956194\n",
      "Learning rate :  0.14  Train score :  0.999984774375646  Cross-Val score :  0.9999830507187235\n",
      "Learning rate :  0.15  Train score :  0.9999852837109836  Cross-Val score :  0.9999827438656832\n",
      "Learning rate :  0.2  Train score :  0.9999857565649963  Cross-Val score :  0.9999843765010246\n",
      "Learning rate :  0.5  Train score :  0.9999969102996886  Cross-Val score :  0.999994982475797\n",
      "Learning rate :  0.7  Train score :  0.9999975146570849  Cross-Val score :  0.9999954554291831\n",
      "Learning rate :  1  Train score :  0.9999975395607028  Cross-Val score :  0.9999954548922776\n"
     ]
    }
   ],
   "source": [
    "from sklearn.model_selection import cross_val_score\n",
    "import numpy as np\n",
    "from xgboost import XGBRegressor\n",
    "for lr in [0.01,0.02,0.03,0.04,0.05,0.06,0.07,0.08,0.09,0.1,0.11,0.12,0.13,0.14,0.15,0.2,0.5,0.7,1]:\n",
    "  XGBRegressor = xgb.XGBRegressor(learning_rate = lr, n_estimators=100, verbosity = 0) \n",
    "  XGBRegressor.fit(X_train,y_train) \n",
    "  XGBRegressor.score(X_test, y_test) \n",
    "  print(\"Learning rate : \", lr, \" Train score : \", XGBRegressor.score(X_train,y_train), \" Cross-Val score : \", np.mean(cross_val_score(XGBRegressor, X_train, y_train, cv=10)))"
   ]
  },
  {
   "cell_type": "code",
   "execution_count": 34,
   "metadata": {},
   "outputs": [
    {
     "data": {
      "text/plain": [
       "XGBRegressor(base_score=None, booster=None, callbacks=None,\n",
       "             colsample_bylevel=None, colsample_bynode=None,\n",
       "             colsample_bytree=None, early_stopping_rounds=None,\n",
       "             enable_categorical=False, eval_metric=None, feature_types=None,\n",
       "             gamma=None, gpu_id=None, grow_policy=None, importance_type=None,\n",
       "             interaction_constraints=None, learning_rate=0.7, max_bin=None,\n",
       "             max_cat_threshold=None, max_cat_to_onehot=None,\n",
       "             max_delta_step=None, max_depth=None, max_leaves=None,\n",
       "             min_child_weight=None, missing=nan, monotone_constraints=None,\n",
       "             n_estimators=100, n_jobs=None, num_parallel_tree=None,\n",
       "             predictor=None, random_state=None, ...)"
      ]
     },
     "execution_count": 34,
     "metadata": {},
     "output_type": "execute_result"
    }
   ],
   "source": [
    "XGBRegressor = xgb.XGBRegressor(learning_rate = 0.7, n_estimators=100)\n",
    "XGBRegressor.fit(X_train,y_train) "
   ]
  },
  {
   "cell_type": "code",
   "execution_count": 35,
   "metadata": {},
   "outputs": [
    {
     "name": "stdout",
     "output_type": "stream",
     "text": [
      "R2 Value: 0.9999951507049711\n"
     ]
    }
   ],
   "source": [
    "from sklearn.metrics import  r2_score\n",
    "y_pred = XGBRegressor.predict(X_test)\n",
    "rsquared = r2_score(y_test,y_pred)\n",
    "print(\"R2 Value: {}\".format(rsquared))"
   ]
  },
  {
   "cell_type": "code",
   "execution_count": 36,
   "metadata": {},
   "outputs": [
    {
     "name": "stdout",
     "output_type": "stream",
     "text": [
      "R2 Value for Linear Regression: 0.9999945867835961\n",
      "R2 Value for KNN Regression: 0.9999757320048155\n",
      "R2 Value for DecisionTreeRegressor: 0.9999924633817353\n",
      "R2 Value for RandomForestRegressor: 0.8676944397176263\n",
      "R2 Value for XGBooster: 0.9999951507049711\n"
     ]
    }
   ],
   "source": [
    "from sklearn.metrics import  r2_score\n",
    "print(\"R2 Value for Linear Regression: {}\".format(r2_score(y_test,regressor.predict(X_test_scaled))))\n",
    "print(\"R2 Value for KNN Regression: {}\".format(r2_score(y_test,knn.predict(X_test_scaled))))\n",
    "print(\"R2 Value for DecisionTreeRegressor: {}\".format(r2_score(y_test,dt.predict(X_test))))\n",
    "print(\"R2 Value for RandomForestRegressor: {}\".format(r2_score(y_test,rf.predict(X_test_scaled))))\n",
    "print(\"R2 Value for XGBooster: {}\".format(r2_score(y_test,XGBRegressor.predict(X_test))))"
   ]
  },
  {
   "cell_type": "code",
   "execution_count": 37,
   "metadata": {},
   "outputs": [],
   "source": [
    "import pickle\n",
    "import pickle\n",
    "pickle_out = open('model.pkl','wb')\n",
    "pickle.dump(XGBRegressor,pickle_out)\n",
    "pickle_out.close()"
   ]
  },
  {
   "cell_type": "code",
   "execution_count": 38,
   "metadata": {},
   "outputs": [],
   "source": [
    "loaded_model = pickle.load(open('model.pkl', 'rb'))"
   ]
  },
  {
   "cell_type": "code",
   "execution_count": 39,
   "metadata": {},
   "outputs": [
    {
     "name": "stdout",
     "output_type": "stream",
     "text": [
      "0.9999951507049711\n"
     ]
    }
   ],
   "source": [
    "result = loaded_model.score(X_test, y_test)\n",
    "print(result)"
   ]
  },
  {
   "cell_type": "code",
   "execution_count": 40,
   "metadata": {},
   "outputs": [
    {
     "data": {
      "text/plain": [
       "Year               int64\n",
       "Present_Price    float64\n",
       "Kms_Driven         int64\n",
       "Fuel_Type          int64\n",
       "Seller_Type        int64\n",
       "Transmission       int64\n",
       "Owner              int64\n",
       "Selling_Price    float64\n",
       "dtype: object"
      ]
     },
     "execution_count": 40,
     "metadata": {},
     "output_type": "execute_result"
    }
   ],
   "source": [
    "df.dtypes"
   ]
  },
  {
   "cell_type": "code",
   "execution_count": null,
   "metadata": {},
   "outputs": [],
   "source": []
  }
 ],
 "metadata": {
  "kernelspec": {
   "display_name": "base",
   "language": "python",
   "name": "python3"
  },
  "language_info": {
   "codemirror_mode": {
    "name": "ipython",
    "version": 3
   },
   "file_extension": ".py",
   "mimetype": "text/x-python",
   "name": "python",
   "nbconvert_exporter": "python",
   "pygments_lexer": "ipython3",
   "version": "3.9.15 (main, Nov 23 2022, 09:27:34) [MSC v.1916 64 bit (AMD64)]"
  },
  "orig_nbformat": 4,
  "vscode": {
   "interpreter": {
    "hash": "8e488a14b9a2fa3e242edeb4f698eb6a19198fa902215ebe7df2f983cb5037e8"
   }
  }
 },
 "nbformat": 4,
 "nbformat_minor": 2
}
